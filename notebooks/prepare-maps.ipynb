{
 "cells": [
  {
   "cell_type": "code",
   "execution_count": null,
   "metadata": {},
   "outputs": [],
   "source": [
    "import cartopy\n",
    "import cartopy.crs as ccrs\n",
    "import fiona\n",
    "import geopandas\n",
    "import matplotlib\n",
    "import matplotlib.colors\n",
    "import matplotlib.pyplot as plt\n",
    "import pandas\n",
    "import rasterio\n",
    "import rasterio.plot\n",
    "\n",
    "import glob\n",
    "import json\n",
    "import os\n",
    "\n",
    "matplotlib.rcParams[\"figure.figsize\"] = (6,6)\n",
    "matplotlib.rcParams[\"figure.dpi\"] = 72"
   ]
  },
  {
   "cell_type": "code",
   "execution_count": null,
   "metadata": {},
   "outputs": [],
   "source": [
    "# read shared data folder location from config\n",
    "with open(\"config.json\", 'r') as fh:\n",
    "    base_folder = json.load(fh)['data_folder']"
   ]
  },
  {
   "cell_type": "code",
   "execution_count": null,
   "metadata": {},
   "outputs": [],
   "source": [
    "# read Arc LADs\n",
    "lads_path = os.path.join(base_folder, 'GIS Data', 'arc_lad_uk16.gpkg')\n",
    "lads_df = geopandas.read_file(lads_path)"
   ]
  },
  {
   "cell_type": "code",
   "execution_count": null,
   "metadata": {},
   "outputs": [],
   "source": [
    "lad_centroids_df = lads_df[lads_df.in_arc == 1]\n",
    "lad_centroids_df[\"geometry\"] = lad_centroids_df.geometry.centroid\n",
    "lad_centroids_df = lad_centroids_df[[\"desc\", \"geometry\"]].rename(columns={\"desc\":\"label\"})\n",
    "lad_centroids_df.to_file(\n",
    "    os.path.join(base_folder, 'Visual Narrative', 'Data', 'arc_lad_centroids.geojson'), \n",
    "    driver=\"GeoJSON\"\n",
    ")\n",
    "lad_centroids_df.head()"
   ]
  },
  {
   "cell_type": "code",
   "execution_count": null,
   "metadata": {},
   "outputs": [],
   "source": [
    "# read Arc MSOAs\n",
    "msoa_path = os.path.join(base_folder, 'GIS Data', 'msoa_arc.gpkg')\n",
    "msoa_df = geopandas.read_file(msoa_path)"
   ]
  },
  {
   "cell_type": "code",
   "execution_count": null,
   "metadata": {},
   "outputs": [],
   "source": [
    "msoa_names = pandas.read_csv(\n",
    "    os.path.join(base_folder, 'Visual Narrative', 'Data', 'MSOA-Names-1.5.0.csv')\n",
    ")[[\"msoa11cd\", \"msoa11hclnm\"]]\n",
    "msoa_names.head(1)"
   ]
  },
  {
   "cell_type": "code",
   "execution_count": null,
   "metadata": {},
   "outputs": [],
   "source": [
    "msoa_centroids_df = msoa_df.copy()\n",
    "msoa_centroids_df[\"geometry\"] = msoa_centroids_df.geometry.centroid\n",
    "msoa_centroids_df = msoa_centroids_df[[\"msoa11cd\", \"geometry\"]].set_index(\"msoa11cd\")\n",
    "msoa_centroids_df = msoa_centroids_df \\\n",
    "    .join(msoa_names.set_index(\"msoa11cd\"), how=\"left\") \\\n",
    "    .rename(columns={'msoa11hclnm': 'label'})\n",
    "msoa_centroids_df.to_file(\n",
    "    os.path.join(base_folder, 'Visual Narrative', 'Data', 'arc_msoa_centroids.geojson'), \n",
    "    driver=\"GeoJSON\"\n",
    ")\n",
    "msoa_centroids_df.head(1)"
   ]
  },
  {
   "cell_type": "code",
   "execution_count": null,
   "metadata": {},
   "outputs": [],
   "source": [
    "# Natural Capital geodatabase location\n",
    "nc_path = os.path.join(\n",
    "    base_folder, 'Scenarios', 'Natural Capital', 'OxCamArc_Freedata_LADs', 'NatCap_Arc_FreeData_LADs.gdb')"
   ]
  },
  {
   "cell_type": "code",
   "execution_count": null,
   "metadata": {},
   "outputs": [],
   "source": [
    "# Read each natural capital layer - takes >6G RAM\n",
    "# dfs = []\n",
    "# for layername in fiona.listlayers(nc_path):\n",
    "#     if 'NatCap' in layername:\n",
    "#         df = geopandas.read_file(nc_path, layer=layername)\n",
    "#         dfs.append(df)\n",
    "#         break\n",
    "# nc_df = pandas.concat(dfs, axis=1)\n",
    "# nc_df.columns"
   ]
  },
  {
   "cell_type": "code",
   "execution_count": null,
   "metadata": {},
   "outputs": [],
   "source": [
    "density_path = os.path.join(\n",
    "    base_folder, 'Scenarios', 'Density', 'Density_Surfaces', '*.asc')"
   ]
  },
  {
   "cell_type": "code",
   "execution_count": null,
   "metadata": {},
   "outputs": [],
   "source": [
    "arc_df = geopandas.read_file(os.path.join(\n",
    "    base_folder, 'Scenarios', 'Density', 'Density_Surfaces', 'arc_region', 'arc_region.shp'))"
   ]
  },
  {
   "cell_type": "code",
   "execution_count": null,
   "metadata": {},
   "outputs": [],
   "source": [
    "arc_extent = (418_000, 573_000, 170_000, 325_000)\n",
    "cty_extent = (475_000, 500_000, 225_000, 250_000)\n",
    "ngb_extent = (487_000, 492_000, 231_500, 236_500)"
   ]
  },
  {
   "cell_type": "code",
   "execution_count": null,
   "metadata": {},
   "outputs": [],
   "source": [
    "def plot_map(raster, raster_extent, extent, cmap='Greens'):\n",
    "    osgb = ccrs.epsg(27700)\n",
    "    ax = plt.axes(projection=osgb)\n",
    "    ax.set_extent(extent, crs=osgb)\n",
    "\n",
    "    # add the image\n",
    "    if raster is not None:\n",
    "        ax.imshow(raster, origin='upper', extent=raster_extent, transform=osgb, cmap=cmap)\n",
    "#     ax.add_geometries(\n",
    "#         arc_df['geometry'], crs=osgb, \n",
    "#         edgecolor='black', linewidth=1, facecolor='#00000000')\n",
    "\n",
    "    return ax"
   ]
  },
  {
   "cell_type": "code",
   "execution_count": null,
   "metadata": {},
   "outputs": [],
   "source": [
    "for fname in glob.glob(density_path):\n",
    "    if 'Nat' in fname or 'Dwellings' in fname:\n",
    "        with rasterio.open(fname) as ds:\n",
    "            data = ds.read(1)\n",
    "            data_extent = rasterio.plot.plotting_extent(ds)\n",
    "        plot_map(data, data_extent, arc_extent)\n",
    "        plt.savefig(os.path.basename(fname)+'_arc.png')\n",
    "        plot_map(data, data_extent, cty_extent)\n",
    "        plt.savefig(os.path.basename(fname)+'_cty.png')\n",
    "        plot_map(data, data_extent, ngb_extent)\n",
    "        plt.savefig(os.path.basename(fname)+'_ngb.png')\n",
    "        print(fname)"
   ]
  },
  {
   "cell_type": "code",
   "execution_count": null,
   "metadata": {},
   "outputs": [],
   "source": [
    "density_cmap = matplotlib.colors.LinearSegmentedColormap.from_list(\"\", [\"white\",\"#f2994a\"])\n",
    "plot_map(data, data_extent, ngb_extent, cmap=density_cmap)"
   ]
  },
  {
   "cell_type": "code",
   "execution_count": null,
   "metadata": {},
   "outputs": [],
   "source": [
    "udm_path = os.path.join(\n",
    "    base_folder, 'Scenarios', 'UDM', 'ATI FINAL', '**', '*.asc')"
   ]
  },
  {
   "cell_type": "code",
   "execution_count": null,
   "metadata": {},
   "outputs": [],
   "source": [
    "for fname in glob.glob(udm_path):\n",
    "    with rasterio.open(fname) as ds:\n",
    "        data = ds.read(1)\n",
    "        data_extent = rasterio.plot.plotting_extent(ds)\n",
    "        \n",
    "#     plot_map(data, data_extent, arc_extent)\n",
    "#     plt.savefig(os.path.basename(fname)+'_arc.png')\n",
    "#     plot_map(data, data_extent, cty_extent)\n",
    "#     plt.savefig(os.path.basename(fname)+'_cty.png')\n",
    "    plot_map(data, data_extent, ngb_extent)\n",
    "    plt.savefig(os.path.basename(fname)+'_ngb.png')\n",
    "    print(fname)"
   ]
  }
 ],
 "metadata": {
  "kernelspec": {
   "display_name": "Python 3",
   "language": "python",
   "name": "python3"
  },
  "language_info": {
   "codemirror_mode": {
    "name": "ipython",
    "version": 3
   },
   "file_extension": ".py",
   "mimetype": "text/x-python",
   "name": "python",
   "nbconvert_exporter": "python",
   "pygments_lexer": "ipython3",
   "version": "3.7.6"
  }
 },
 "nbformat": 4,
 "nbformat_minor": 4
}
