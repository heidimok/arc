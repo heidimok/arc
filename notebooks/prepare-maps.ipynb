{
 "cells": [
  {
   "cell_type": "markdown",
   "metadata": {},
   "source": [
    "# Prepare map images"
   ]
  },
  {
   "cell_type": "code",
   "execution_count": null,
   "metadata": {},
   "outputs": [],
   "source": [
    "import cartopy\n",
    "import cartopy.crs as ccrs\n",
    "import fiona\n",
    "import geopandas\n",
    "import matplotlib\n",
    "import matplotlib.cm\n",
    "import matplotlib.colors\n",
    "import matplotlib.pyplot as plt\n",
    "import numpy\n",
    "import pandas\n",
    "import rasterio\n",
    "import rasterio.mask\n",
    "import rasterio.plot\n",
    "\n",
    "from matplotlib.lines import Line2D\n",
    "from mpl_toolkits.axes_grid1.inset_locator import inset_axes\n",
    "from shapely.geometry import shape\n",
    "\n",
    "import gc\n",
    "import glob\n",
    "import json\n",
    "import os\n",
    "\n",
    "matplotlib.rcParams[\"figure.figsize\"] = (12, 13)\n",
    "matplotlib.rcParams[\"figure.dpi\"] = 72\n",
    "matplotlib.rcParams[\"font.size\"] = 16"
   ]
  },
  {
   "cell_type": "code",
   "execution_count": null,
   "metadata": {},
   "outputs": [],
   "source": [
    "# read shared data folder location from config\n",
    "with open(\"config.json\", 'r') as fh:\n",
    "    base_folder = json.load(fh)['data_folder']"
   ]
  },
  {
   "cell_type": "code",
   "execution_count": null,
   "metadata": {},
   "outputs": [],
   "source": [
    "# read Arc LADs\n",
    "lads_path = os.path.join(base_folder, 'GIS Data', 'arc_lad_uk16.gpkg')\n",
    "lads_df = geopandas.read_file(lads_path)"
   ]
  },
  {
   "cell_type": "code",
   "execution_count": null,
   "metadata": {},
   "outputs": [],
   "source": [
    "lad_centroids_df = lads_df[lads_df.in_arc == 1].copy()\n",
    "lad_centroids_df[\"geometry\"] = lad_centroids_df.geometry.centroid\n",
    "lad_centroids_df = lad_centroids_df[[\"desc\", \"geometry\"]].rename(columns={\"desc\":\"label\"})\n",
    "lad_centroids_df.to_file(\n",
    "    os.path.join(base_folder, 'Visual Narrative', 'Data', 'arc_lad_centroids.geojson'), \n",
    "    driver=\"GeoJSON\"\n",
    ")\n",
    "lad_centroids_df.head()"
   ]
  },
  {
   "cell_type": "code",
   "execution_count": null,
   "metadata": {},
   "outputs": [],
   "source": [
    "# read Arc MSOAs\n",
    "msoa_path = os.path.join(base_folder, 'GIS Data', 'msoa_arc.gpkg')\n",
    "msoa_df = geopandas.read_file(msoa_path)"
   ]
  },
  {
   "cell_type": "code",
   "execution_count": null,
   "metadata": {},
   "outputs": [],
   "source": [
    "msoa_names = pandas.read_csv(\n",
    "    os.path.join(base_folder, 'Visual Narrative', 'Data', 'MSOA-Names-1.5.0.csv')\n",
    ")[[\"msoa11cd\", \"msoa11hclnm\"]]\n",
    "msoa_names.head(1)"
   ]
  },
  {
   "cell_type": "code",
   "execution_count": null,
   "metadata": {},
   "outputs": [],
   "source": [
    "msoa_centroids_df = msoa_df.copy()\n",
    "msoa_centroids_df[\"geometry\"] = msoa_centroids_df.geometry.centroid\n",
    "msoa_centroids_df = msoa_centroids_df[[\"msoa11cd\", \"geometry\"]].set_index(\"msoa11cd\")\n",
    "msoa_centroids_df = msoa_centroids_df \\\n",
    "    .join(msoa_names.set_index(\"msoa11cd\"), how=\"left\") \\\n",
    "    .rename(columns={'msoa11hclnm': 'label'})\n",
    "msoa_centroids_df.to_file(\n",
    "    os.path.join(base_folder, 'Visual Narrative', 'Data', 'arc_msoa_centroids.geojson'), \n",
    "    driver=\"GeoJSON\"\n",
    ")\n",
    "msoa_centroids_df.head(1)"
   ]
  },
  {
   "cell_type": "code",
   "execution_count": null,
   "metadata": {},
   "outputs": [],
   "source": [
    "outline_path = os.path.join(\n",
    "    base_folder, 'Visual Narrative', 'Data', 'Arc Outline', 'arc-outline.gpkg')\n",
    "with fiona.open(outline_path, \"r\") as shapefile:\n",
    "    arc_mask = [feature[\"geometry\"] for feature in shapefile]\n",
    "    outline = [shape(p) for p in arc_mask]"
   ]
  },
  {
   "cell_type": "code",
   "execution_count": null,
   "metadata": {},
   "outputs": [],
   "source": [
    "arc_extent = (418_000, 573_000, 170_000, 325_000)\n",
    "cty_extent = (475_000, 500_000, 225_000, 250_000)\n",
    "ngb_extent = (487_000, 492_000, 231_500, 236_500)\n",
    "extents = {\n",
    "    'arc': arc_extent,\n",
    "    'cty': cty_extent,\n",
    "    'ngb': ngb_extent\n",
    "}"
   ]
  },
  {
   "cell_type": "code",
   "execution_count": null,
   "metadata": {},
   "outputs": [],
   "source": [
    "green = '#219653' \n",
    "blue = '#2D9CDB'\n",
    "yellow = '#F2C94C'\n",
    "red = '#EB5757'\n",
    "grey = '#DDDDDD'"
   ]
  },
  {
   "cell_type": "code",
   "execution_count": null,
   "metadata": {},
   "outputs": [],
   "source": [
    "# Natural Capital geodatabase location\n",
    "nc_paths = glob.glob(\n",
    "    os.path.join(base_folder, 'Scenarios', 'Natural Capital', 'Arc_*.tif'))\n",
    "nc_paths"
   ]
  },
  {
   "cell_type": "code",
   "execution_count": null,
   "metadata": {},
   "outputs": [],
   "source": [
    "def files_raster_min_max(paths, mask=None):\n",
    "    # loop over to get vmax\n",
    "    vmin, vmax = 0, 0\n",
    "    for fname in paths:\n",
    "        with rasterio.open(fname) as ds:\n",
    "            if mask is not None:                \n",
    "                data, _ = rasterio.mask.mask(ds, mask, crop=True)\n",
    "                data = data[0]\n",
    "            else:\n",
    "                data = ds.read(1)\n",
    "            data_max = numpy.max(data)\n",
    "            data_min = numpy.min(data)\n",
    "            if data_max > vmax:\n",
    "                vmax = data_max\n",
    "            if data_min < vmin:\n",
    "                vmin = data_min\n",
    "    \n",
    "    if vmin < 0:\n",
    "        vmin = 0\n",
    "        \n",
    "    return vmin, vmax"
   ]
  },
  {
   "cell_type": "code",
   "execution_count": null,
   "metadata": {},
   "outputs": [],
   "source": [
    "def plot_map(raster, raster_extent, extent, label=None, cmap='Greens', norm=None):\n",
    "    osgb = ccrs.epsg(27700)\n",
    "    fig, ax = plt.subplots(subplot_kw={'projection':osgb}, figsize=(12, 13))\n",
    "    ax.set_frame_on(False)\n",
    "    ax = plt.axes([0, 0.07, 1, 1], projection=osgb)\n",
    "    ax.set_extent(extent, crs=osgb)\n",
    "    ax.set_frame_on(False) # don't draw axes outline/background rectangle\n",
    "\n",
    "    # add the image\n",
    "    ax.imshow(raster, origin='upper', extent=raster_extent, transform=osgb, cmap=cmap, norm=norm)\n",
    "    \n",
    "    # add the colorbar\n",
    "    cax = inset_axes(\n",
    "        ax,\n",
    "        width=\"40%\",  \n",
    "        height=\"3%\",\n",
    "        loc='lower left',\n",
    "        bbox_to_anchor=(0.05, -0.05, 1, 1),\n",
    "        bbox_transform=ax.transAxes,\n",
    "        borderpad=0,\n",
    "    )\n",
    "    fig.colorbar(matplotlib.cm.ScalarMappable(norm=norm, cmap=cmap), cax=cax, label=label, orientation='horizontal')\n",
    "    return ax"
   ]
  },
  {
   "cell_type": "markdown",
   "metadata": {},
   "source": [
    "## Plot natural capital by service"
   ]
  },
  {
   "cell_type": "code",
   "execution_count": null,
   "metadata": {},
   "outputs": [],
   "source": [
    "# hard code 0-10 range - note that habitat scores go above 10, simply capping here\n",
    "norm = matplotlib.colors.Normalize(vmin=0, vmax=10)\n",
    "\n",
    "def do_plot(data, data_extent, fname, extents, norm):    \n",
    "    cmap = matplotlib.colors.LinearSegmentedColormap.from_list(\"\", [\"white\", green])\n",
    "\n",
    "    service = os.path.basename(fname) \\\n",
    "        .replace('Arc_FreeData_', '') \\\n",
    "        .replace('_25m_MCA.tif', '')   \n",
    "    \n",
    "    text = service.replace('Q', ' Q') \\\n",
    "        .replace('Control', ' Control') \\\n",
    "        .replace('Carbon', 'Carbon Storage') \\\n",
    "        .replace('Erosion', 'Erosion Prevention') \\\n",
    "        .replace('Flood', 'Flood Protection') \\\n",
    "        .replace('Food', 'Food Production') \\\n",
    "        .replace('Noise', 'Noise Reduction')\n",
    "    \n",
    "    label = f\"{text} Score\"\n",
    "    print(label)\n",
    "\n",
    "    for zoom in ('arc', 'cty', 'ngb'):\n",
    "        ax = plot_map(data, data_extent, extents[zoom], cmap=cmap, norm=norm, label=label)\n",
    "        plt.savefig(f\"natcap_{service.lower()}_{zoom}.png\")\n",
    "        \n",
    "        fig = plt.gcf()\n",
    "        fig.clf()\n",
    "        plt.close()\n",
    "        gc.collect()\n",
    "    \n",
    "\n",
    "for fname in nc_paths:\n",
    "    with rasterio.open(fname) as ds:\n",
    "        data, _ = rasterio.mask.mask(ds, arc_mask, crop=True)\n",
    "        data = data[0]  # ignore first dimension, just want 2D array\n",
    "        data_extent = rasterio.plot.plotting_extent(ds)\n",
    "\n",
    "    if 'Habitat' in fname:\n",
    "        m = numpy.max(data)\n",
    "        print(\"Habitat max\", m)\n",
    "        data = (data.astype(\"float\") * 10) / m\n",
    "        \n",
    "    do_plot(data, data_extent, fname, extents, norm)\n",
    "        \n",
    "    del data    \n",
    "    gc.collect() "
   ]
  },
  {
   "cell_type": "markdown",
   "metadata": {},
   "source": [
    "## Plot food-non-food natural capital summary"
   ]
  },
  {
   "cell_type": "code",
   "execution_count": null,
   "metadata": {},
   "outputs": [],
   "source": [
    "def get_food_non(nc_paths, arc_mask):\n",
    "    non_food = None\n",
    "    food = None\n",
    "    for fname in nc_paths:\n",
    "        with rasterio.open(fname) as ds:\n",
    "            data, _ = rasterio.mask.mask(ds, arc_mask, crop=True)\n",
    "            data = data[0]  # ignore first dimension, just want 2D array\n",
    "            data_extent = rasterio.plot.plotting_extent(ds)\n",
    "        if 'Food' in fname:\n",
    "            food = data\n",
    "            continue\n",
    "            \n",
    "        if 'Habitat' in fname:\n",
    "            m = numpy.max(data)\n",
    "            print(\"Habitat max\", m)\n",
    "            data = (data * 10) / m\n",
    "            \n",
    "        if non_food is None:\n",
    "            non_food = data\n",
    "        else:\n",
    "            non_food = numpy.maximum.reduce([non_food, data])\n",
    "            \n",
    "        del data\n",
    "        gc.collect\n",
    "    food[food < non_food] = -1\n",
    "    non_food[non_food < food] = -1\n",
    "    return food, non_food\n",
    "food, non_food = get_food_non(nc_paths, arc_mask)"
   ]
  },
  {
   "cell_type": "code",
   "execution_count": null,
   "metadata": {},
   "outputs": [],
   "source": [
    "with rasterio.open(nc_paths[0]) as ds:\n",
    "    data_extent = rasterio.plot.plotting_extent(ds)\n",
    "    \n",
    "norm = matplotlib.colors.Normalize(vmin=0, vmax=10)\n",
    "greens = matplotlib.colors.LinearSegmentedColormap.from_list(\"\", [\"#ffffff00\", green])\n",
    "reds = matplotlib.colors.LinearSegmentedColormap.from_list(\"\", [\"#ffffff00\", yellow])\n",
    "greens.set_under(color=(1, 1, 1, 0))\n",
    "reds.set_under(color=(1, 1, 1, 0))\n",
    "\n",
    "for zoom in ('arc', 'cty', 'ngb'):    \n",
    "    osgb = ccrs.epsg(27700)\n",
    "    fig, ax = plt.subplots(subplot_kw={'projection':osgb}, figsize=(12, 13))\n",
    "    ax.set_frame_on(False)\n",
    "    ax = plt.axes([0, 0.07, 1, 1], projection=osgb)\n",
    "    ax.set_extent(extents[zoom], crs=osgb)\n",
    "    \n",
    "    ax.imshow(food, origin='upper', extent=data_extent, transform=osgb, cmap=reds, norm=norm)\n",
    "    ax.imshow(non_food, origin='upper', extent=data_extent, transform=osgb, cmap=greens, norm=norm)\n",
    "    \n",
    "    # add the colorbars\n",
    "    nf_cax = inset_axes(\n",
    "        ax,\n",
    "        width=\"40%\",  \n",
    "        height=\"3%\",\n",
    "        loc='lower left',\n",
    "        bbox_to_anchor=(0.05, -0.05, 1, 1),\n",
    "        bbox_transform=ax.transAxes,\n",
    "        borderpad=0,\n",
    "    )\n",
    "    fig.colorbar(matplotlib.cm.ScalarMappable(norm=norm, cmap=greens), cax=nf_cax, \n",
    "                 orientation='horizontal',\n",
    "                 label=\"Non-food Natural Capital Score\")\n",
    "    \n",
    "    f_cax = inset_axes(\n",
    "        ax,\n",
    "        width=\"40%\",  \n",
    "        height=\"3%\",\n",
    "        loc='lower left',\n",
    "        bbox_to_anchor=(0.55, -0.05, 1, 1),\n",
    "        bbox_transform=ax.transAxes,\n",
    "        borderpad=0,\n",
    "    )\n",
    "    fig.colorbar(matplotlib.cm.ScalarMappable(norm=norm, cmap=reds), cax=f_cax, \n",
    "                 orientation='horizontal',\n",
    "                 label=\"Food Natural Capital Score\")\n",
    "    \n",
    "    # don't draw axes outline/background rectangle\n",
    "    ax.set_frame_on(False) \n",
    "    f_cax.set_frame_on(False)\n",
    "    nf_cax.set_frame_on(False)\n",
    "    plt.savefig(f\"natcap_combined_{zoom}.png\")\n",
    "\n",
    "    fig = plt.gcf()\n",
    "    fig.clf()\n",
    "    plt.close()\n",
    "    gc.collect()"
   ]
  },
  {
   "cell_type": "markdown",
   "metadata": {},
   "source": [
    "## Plot density surfaces"
   ]
  },
  {
   "cell_type": "code",
   "execution_count": null,
   "metadata": {},
   "outputs": [],
   "source": [
    "density_paths = glob.glob(\n",
    "    os.path.join(base_folder, 'Scenarios', 'UDM', 'ATI FINAL', 'Inputs', 'Density Surfaces', 'TIFF', '*.tif'))\n",
    "density_paths"
   ]
  },
  {
   "cell_type": "code",
   "execution_count": null,
   "metadata": {},
   "outputs": [],
   "source": [
    "vmin, vmax = files_raster_min_max(density_paths, arc_mask)\n",
    "norm = matplotlib.colors.Normalize(vmin=vmin, vmax=vmax)\n",
    "\n",
    "print(\"Range:\", vmin, vmax)\n",
    "\n",
    "for fname in density_paths:\n",
    "    with rasterio.open(fname) as ds:\n",
    "        data, _ = rasterio.mask.mask(ds, arc_mask, crop=True)\n",
    "        data = data[0]  # ignore first dimension, just want 2D array\n",
    "        data_extent = rasterio.plot.plotting_extent(ds)\n",
    "\n",
    "    cmap = matplotlib.colors.LinearSegmentedColormap.from_list(\"\", [\"white\", blue])\n",
    "\n",
    "    dwellings, policy, _, _ = os.path.basename(fname).lower().split('_')\n",
    "    if dwellings == 'expansion':\n",
    "        dwellings = 'exp'\n",
    "    elif dwellings == 'settlements':\n",
    "        dwellings = 'set'\n",
    "    else:\n",
    "        assert False, dwellings\n",
    "\n",
    "    for zoom in ('arc', 'cty', 'ngb'):\n",
    "        _ = plot_map(data, data_extent, extents[zoom], cmap=cmap, norm=norm, label=\"Potential dwellings per hectare\")\n",
    "        plt.savefig(f\"density_{policy}_{dwellings}_{zoom}.png\")\n",
    "        plt.close()\n",
    "\n",
    "    print(fname)"
   ]
  },
  {
   "cell_type": "markdown",
   "metadata": {},
   "source": [
    "## Plot attractors"
   ]
  },
  {
   "cell_type": "code",
   "execution_count": null,
   "metadata": {},
   "outputs": [],
   "source": [
    "attractor_paths = glob.glob(\n",
    "    os.path.join(base_folder, 'Scenarios', 'UDM', 'ATI FINAL', 'Inputs', 'Attractors', 'TIFF', '*.tif'))\n",
    "attractor_paths"
   ]
  },
  {
   "cell_type": "code",
   "execution_count": null,
   "metadata": {},
   "outputs": [],
   "source": [
    "def titleify(str_, sep=\" \"):\n",
    "    words = iter(str_.split(sep))\n",
    "    stop = {\"by\", \"the\", \"of\", \"to\"}\n",
    "    \n",
    "    label = next(words).title() + \" \"\n",
    "    for word in words:\n",
    "        if word not in stop:\n",
    "            label += word.title()\n",
    "        else:\n",
    "            label += word\n",
    "        label += \" \"\n",
    "    return label.strip()\n",
    "titleify(\"the intro to the software\")"
   ]
  },
  {
   "cell_type": "code",
   "execution_count": null,
   "metadata": {},
   "outputs": [],
   "source": [
    "vmin, vmax = files_raster_min_max(attractor_paths, arc_mask)\n",
    "norm = matplotlib.colors.Normalize(vmin=vmin, vmax=vmax)\n",
    "\n",
    "print(\"Range:\", vmin, vmax)\n",
    "\n",
    "\n",
    "for fname in attractor_paths:\n",
    "    with rasterio.open(fname) as ds:\n",
    "        data, _ = rasterio.mask.mask(ds, arc_mask, crop=True)\n",
    "        data = data[0]  # ignore first dimension, just want 2D array\n",
    "        data_extent = rasterio.plot.plotting_extent(ds)\n",
    "\n",
    "    cmap = matplotlib.colors.LinearSegmentedColormap.from_list(\"\", [\"white\", yellow])\n",
    "    slug = os.path.basename(fname).replace('.tif', '')\n",
    "    label = titleify(slug, sep='_')\n",
    "\n",
    "    for zoom in ('arc', 'cty', 'ngb'):\n",
    "        _ = plot_map(data, data_extent, extents[zoom], cmap=cmap, norm=norm, label=label)\n",
    "        plt.savefig(f\"attractor_{slug}_{zoom}.png\")\n",
    "        plt.close()\n",
    "\n",
    "    print(slug, label)"
   ]
  },
  {
   "cell_type": "markdown",
   "metadata": {},
   "source": [
    "## Plot constraints"
   ]
  },
  {
   "cell_type": "code",
   "execution_count": null,
   "metadata": {},
   "outputs": [],
   "source": [
    "constraint_paths = glob.glob(\n",
    "    os.path.join(base_folder, 'Scenarios', 'UDM', 'ATI FINAL', 'Inputs', 'Constraints', 'TIFF', '*.tif'))\n",
    "constraint_paths"
   ]
  },
  {
   "cell_type": "code",
   "execution_count": null,
   "metadata": {},
   "outputs": [],
   "source": [
    "vmin, vmax = files_raster_min_max(constraint_paths, arc_mask)\n",
    "norm = matplotlib.colors.Normalize(vmin=vmin, vmax=vmax)\n",
    "\n",
    "print(\"Range:\", vmin, vmax)\n",
    "\n",
    "for fname in constraint_paths:\n",
    "    with rasterio.open(fname) as ds:\n",
    "        data, _ = rasterio.mask.mask(ds, arc_mask, crop=True)\n",
    "        data = data[0]  # ignore first dimension, just want 2D array\n",
    "        data_extent = rasterio.plot.plotting_extent(ds)\n",
    "\n",
    "    cmap = matplotlib.colors.LinearSegmentedColormap.from_list(\"\", [\"white\", grey])\n",
    "    dwellings, grey_green, _ = os.path.basename(fname).split('_')\n",
    "    \n",
    "    if dwellings == 'expansion':\n",
    "        dwellings = 'exp'\n",
    "    elif dwellings == 'settlements':\n",
    "        dwellings = 'set'\n",
    "    else:\n",
    "        assert False, dwellings\n",
    "\n",
    "    for zoom in ('arc', 'cty', 'ngb'):\n",
    "        _ = plot_map(data, data_extent, extents[zoom], cmap=cmap, norm=norm, label=\"Combined Constraints\")\n",
    "        plt.savefig(f\"constraint_{grey_green}_{dwellings}_{zoom}.png\")\n",
    "        plt.close()\n",
    "\n",
    "    print(fname)"
   ]
  },
  {
   "cell_type": "markdown",
   "metadata": {},
   "source": [
    "## Plot suitability scores"
   ]
  },
  {
   "cell_type": "code",
   "execution_count": null,
   "metadata": {},
   "outputs": [],
   "source": [
    "suitability_paths = glob.glob(\n",
    "    os.path.join(base_folder, 'Scenarios', 'UDM', 'ATI FINAL', 'Outputs', 'Suitability Surfaces', 'TIFF', '*.tif'))\n",
    "suitability_paths"
   ]
  },
  {
   "cell_type": "code",
   "execution_count": null,
   "metadata": {},
   "outputs": [],
   "source": [
    "vmin, vmax = files_raster_min_max(suitability_paths, arc_mask)\n",
    "if vmin < 0:\n",
    "    vmin = 0\n",
    "norm = matplotlib.colors.Normalize(vmin=vmin, vmax=vmax)\n",
    "\n",
    "print(\"Range:\", vmin, vmax)\n",
    "if vmin < 0:\n",
    "    vmin = 0\n",
    "\n",
    "for fname in suitability_paths:\n",
    "    with rasterio.open(fname) as ds:\n",
    "        data, _ = rasterio.mask.mask(ds, arc_mask, crop=True)\n",
    "        data = data[0]  # ignore first dimension, just want 2D array\n",
    "        data_extent = rasterio.plot.plotting_extent(ds)\n",
    "\n",
    "    cmap = matplotlib.colors.LinearSegmentedColormap.from_list(\"\", [\"white\", yellow])\n",
    "    dwellings, grey_green, _ = os.path.basename(fname).split('_')\n",
    "    \n",
    "    if dwellings == 'expansion':\n",
    "        dwellings = 'exp'\n",
    "    elif dwellings == 'settlements':\n",
    "        dwellings = 'set'\n",
    "    else:\n",
    "        assert False, dwellings\n",
    "\n",
    "    for zoom in ('arc', 'cty', 'ngb'):\n",
    "        _ = plot_map(data, data_extent, extents[zoom], cmap=cmap, norm=norm, label=\"Combined Suitability Score\")\n",
    "        plt.savefig(f\"suit_{grey_green}_{dwellings}_{zoom}.png\")\n",
    "        plt.close()\n",
    "\n",
    "    print(fname)"
   ]
  },
  {
   "cell_type": "markdown",
   "metadata": {},
   "source": [
    "## Plot new development + dwellings"
   ]
  },
  {
   "cell_type": "code",
   "execution_count": null,
   "metadata": {},
   "outputs": [],
   "source": [
    "dwellings_paths = sorted(glob.glob(\n",
    "    os.path.join(base_folder, 'Scenarios', 'UDM', 'ATI FINAL', 'Outputs', '**', 'Dwellings', 'TIFF', '*.tif')))\n",
    "dwellings_paths"
   ]
  },
  {
   "cell_type": "code",
   "execution_count": null,
   "metadata": {},
   "outputs": [],
   "source": [
    "development_paths = sorted(glob.glob(\n",
    "    os.path.join(base_folder, 'Scenarios', 'UDM', 'ATI FINAL', 'Outputs', '**', 'Development', 'TIFF', '*.tif')))\n",
    "development_paths"
   ]
  },
  {
   "cell_type": "code",
   "execution_count": null,
   "metadata": {},
   "outputs": [],
   "source": [
    "vmin, vmax = files_raster_min_max(dwellings_paths)\n",
    "norm = matplotlib.colors.Normalize(vmin=vmin, vmax=vmax)\n",
    "vmin, vmax"
   ]
  },
  {
   "cell_type": "code",
   "execution_count": null,
   "metadata": {},
   "outputs": [],
   "source": [
    "def dev_plot(fname, dev_fname):\n",
    "    with rasterio.open(fname) as ds:\n",
    "        data, _ = rasterio.mask.mask(ds, arc_mask, crop=True)\n",
    "        data = data[0]  # ignore first dimension, just want 2D array\n",
    "        # mask out zero values\n",
    "        data[data == 0] = -1\n",
    "        data_extent = rasterio.plot.plotting_extent(ds)\n",
    "    \n",
    "    with rasterio.open(dev_fname) as ds:\n",
    "        dev_data, _ = rasterio.mask.mask(ds, arc_mask, crop=True)\n",
    "        dev_data = dev_data[0]  # ignore first dimension, just want 2D array\n",
    "        # mask out all cells with value 2 (new development)\n",
    "        dev_data[dev_data == 2] = -2\n",
    "        # bump 0 and 1 (undeveloped and previously developed) to hack colour\n",
    "        dev_data[dev_data == 1] = 5\n",
    "        dev_data[dev_data == 0] = 1\n",
    "        \n",
    "    dev_norm = matplotlib.colors.Normalize(vmin=0, vmax=10)\n",
    "\n",
    "    year, rate, dwellings, policy, _ = os.path.basename(fname).split('_')\n",
    "    \n",
    "    if dwellings == 'expansion':\n",
    "        dwellings = 'exp'\n",
    "    elif dwellings == 'settlements':\n",
    "        dwellings = 'set'\n",
    "    else:\n",
    "        assert False, dwellings\n",
    "        \n",
    "    out_name = f\"dwellings_{policy}_{dwellings}_{rate}_{year}_zoom.png\"\n",
    "        \n",
    "    reds = matplotlib.colors.LinearSegmentedColormap.from_list(\"\", [\"#ffadad\", red])\n",
    "    blues = matplotlib.colors.LinearSegmentedColormap.from_list(\"\", [\"white\", blue])\n",
    "    reds.set_under(color=(1, 1, 1, 0))\n",
    "    blues.set_under(color=(1, 1, 1, 0))\n",
    "\n",
    "    for zoom in ('arc', 'cty', 'ngb'):        \n",
    "        osgb = ccrs.epsg(27700)\n",
    "        fig, ax = plt.subplots(subplot_kw={'projection':osgb}, figsize=(12, 13))\n",
    "        ax.set_frame_on(False)\n",
    "        ax = plt.axes([0, 0.07, 1, 1], projection=osgb)\n",
    "        ax.set_frame_on(False)\n",
    "        ax.set_extent(extents[zoom], crs=osgb)\n",
    "\n",
    "        ax.imshow(dev_data, origin='upper', extent=data_extent, transform=osgb, cmap=blues, norm=dev_norm)\n",
    "        ax.imshow(data, origin='upper', extent=data_extent, transform=osgb, cmap=reds, norm=norm)\n",
    "\n",
    "        # add the colorbar\n",
    "        cax = inset_axes(\n",
    "            ax,\n",
    "            width=\"40%\",  \n",
    "            height=\"3%\",\n",
    "            loc='lower left',\n",
    "            bbox_to_anchor=(0.05, -0.05, 1, 1),\n",
    "            bbox_transform=ax.transAxes,\n",
    "            borderpad=0,\n",
    "        )\n",
    "        fig.colorbar(matplotlib.cm.ScalarMappable(norm=norm, cmap=reds), cax=cax, \n",
    "                     orientation='horizontal',\n",
    "                     label=\"New Dwellings (per hectare)\")\n",
    "        \n",
    "        # add extra legend bits\n",
    "        legend_elements = [\n",
    "            Line2D([0], [0], marker='o', color='w', label='No dwellings', markerfacecolor='#dff0f9', markersize=10),\n",
    "            Line2D([0], [0], marker='o', color='w', label='Current development', markerfacecolor='#95cdec', markersize=10),\n",
    "        ]\n",
    "        ax.legend(handles=legend_elements, bbox_to_anchor=(0.55, -0.075), loc='lower left', borderaxespad=0.)\n",
    "        \n",
    "        plt.savefig(out_name.replace('zoom', zoom))\n",
    "        \n",
    "        fig = plt.gcf()\n",
    "        fig.clf()\n",
    "        plt.close()\n",
    "\n",
    "for fname, dev_fname in zip(dwellings_paths, development_paths):\n",
    "    print(fname)\n",
    "    print(dev_fname)\n",
    "    dev_plot(fname, dev_fname)\n",
    "    gc.collect()"
   ]
  }
 ],
 "metadata": {
  "kernelspec": {
   "display_name": "Python 3",
   "language": "python",
   "name": "python3"
  },
  "language_info": {
   "codemirror_mode": {
    "name": "ipython",
    "version": 3
   },
   "file_extension": ".py",
   "mimetype": "text/x-python",
   "name": "python",
   "nbconvert_exporter": "python",
   "pygments_lexer": "ipython3",
   "version": "3.7.6"
  }
 },
 "nbformat": 4,
 "nbformat_minor": 4
}
